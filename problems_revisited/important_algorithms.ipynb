{
 "cells": [
  {
   "cell_type": "markdown",
   "id": "2e1e5344-151c-4112-a38b-e43b0d5d4613",
   "metadata": {},
   "source": [
    "<h2>Important Algorithms</h2>\n",
    "<i>Should be able to implement these in < 5 mins each</i>\n",
    "\n",
    "* Binary Search\n",
    "* BFS\n",
    "* DFS\n",
    "* "
   ]
  },
  {
   "cell_type": "markdown",
   "id": "bf43ea9f-9b14-4a9f-b4f0-94aabb307334",
   "metadata": {},
   "source": [
    "# Binary Search\n",
    "\n",
    "O(log n) Runtime:\n",
    "* 1,000,000 items only takes ~20 operations to find solution.\n",
    "* 1,000,000,000 items takes only ~30 operations to find solution.\n",
    "\n",
    "So for a 1,000x increase in input size, we only do 10 additional operations. An O(n) algorithm would take 999M more operations to do the larger input size.\n",
    "\n",
    "### Visualized searching for a target in a sorted array:\n",
    "\n",
    "Searching for **target = 23** in:\n",
    "\n",
    "`[2, 5, 8, 12, 16, 23, 38, 45, 56, 72, 91]`\n",
    "\n",
    "---\n",
    "\n",
    "### Step 1\n",
    "\n",
    "- `left = 0`, `right = 10`\n",
    "- `mid = (0 + 10) // 2 = 5`\n",
    "- Compare `array[5] = 23` with target `23`\n",
    "\n",
    "➡️  **array[5] == target → Found at index 5**\n",
    "\n",
    "```\n",
    "Indices:  0  1  2   3   4   5   6   7   8   9   10\n",
    "Array:   [2, 5, 8, 12, 16, 23, 38, 45, 56, 72, 91]\n",
    "                            ^\n",
    "                         mid = 5\n",
    "```\n",
    "\n",
    "---\n",
    "\n",
    "# Another Example: Searching for **target = 8**\n",
    "\n",
    "---\n",
    "\n",
    "### Step 1\n",
    "\n",
    "- `left = 0`, `right = 10`\n",
    "- `mid = (0 + 10) // 2 = 5`\n",
    "- Compare `array[5] = 23` with target `8`\n",
    "\n",
    "➡️  **8 < 23**, so move `right = mid - 1 = 4`\n",
    "\n",
    "```\n",
    "Indices:  0  1  2   3   4   5   6   7   8   9  10\n",
    "Array:   [2, 5, 8, 12, 16, 23, 38, 45, 56, 72, 91]\n",
    "                            ^\n",
    "                         mid = 5\n",
    "```\n",
    "\n",
    "---\n",
    "\n",
    "### Step 2\n",
    "\n",
    "- `left = 0`, `right = 4`\n",
    "- `mid = (0 + 4) // 2 = 2`\n",
    "- Compare `array[2] = 8` with target `8`\n",
    "\n",
    "➡️  **array[2] == target → Found at index 2**\n",
    "\n",
    "```\n",
    "Indices:  0  1  2   3   4\n",
    "Array:   [2, 5, 8, 12, 16]\n",
    "                ^\n",
    "              mid = 2\n",
    "```\n"
   ]
  },
  {
   "cell_type": "code",
   "execution_count": 1,
   "id": "efab405a-e622-4d71-be3e-1753998edd9f",
   "metadata": {},
   "outputs": [
    {
     "name": "stdout",
     "output_type": "stream",
     "text": [
      "The history saving thread hit an unexpected error (OperationalError('attempt to write a readonly database')).History will not be written to the database.\n"
     ]
    }
   ],
   "source": [
    "def binary_search_recursive(arr, target):\n",
    "    pass"
   ]
  },
  {
   "cell_type": "code",
   "execution_count": 2,
   "id": "d580e168-317a-4bf9-9d82-53e54c6b050c",
   "metadata": {},
   "outputs": [],
   "source": [
    "def binary_search_iterative(arr, target):\n",
    "    pass"
   ]
  },
  {
   "cell_type": "code",
   "execution_count": null,
   "id": "497b6b2c-9238-4877-ad7a-6887f9cb5946",
   "metadata": {},
   "outputs": [],
   "source": []
  }
 ],
 "metadata": {
  "kernelspec": {
   "display_name": "Python 3",
   "language": "python",
   "name": "python3"
  },
  "language_info": {
   "codemirror_mode": {
    "name": "ipython",
    "version": 3
   },
   "file_extension": ".py",
   "mimetype": "text/x-python",
   "name": "python",
   "nbconvert_exporter": "python",
   "pygments_lexer": "ipython3",
   "version": "3.8.8"
  }
 },
 "nbformat": 4,
 "nbformat_minor": 5
}
