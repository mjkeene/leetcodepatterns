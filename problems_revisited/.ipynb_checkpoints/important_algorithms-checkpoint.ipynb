{
 "cells": [
  {
   "cell_type": "markdown",
   "id": "2e1e5344-151c-4112-a38b-e43b0d5d4613",
   "metadata": {},
   "source": [
    "<h2>Important Algorithms</h2>\n",
    "<i>Should be able to implement these in < 5 mins each</i>\n",
    "\n",
    "* Binary Search\n",
    "* BFS\n",
    "* DFS\n",
    "* "
   ]
  },
  {
   "cell_type": "markdown",
   "id": "bf43ea9f-9b14-4a9f-b4f0-94aabb307334",
   "metadata": {},
   "source": [
    "# Binary Search\n",
    "\n",
    "O(log n) Runtime:\n",
    "* 1,000,000 items only takes ~20 operations to find solution.\n",
    "* 1,000,000,000 items takes only ~30 operations to find solution.\n",
    "\n",
    "So for a 1,000x increase in input size, we only do 10 additional operations. An O(n) algorithm would take 999M more operations to do the larger input size.\n",
    "\n",
    "### Visualized searching for a target in a sorted array:\n",
    "\n",
    "Searching for **target = 23** in:\n",
    "\n",
    "`[2, 5, 8, 12, 16, 23, 38, 45, 56, 72, 91]`\n",
    "\n",
    "---\n",
    "\n",
    "### Step 1\n",
    "\n",
    "- `left = 0`, `right = 10`\n",
    "- `mid = (0 + 10) // 2 = 5`\n",
    "- Compare `array[5] = 23` with target `23`\n",
    "\n",
    "➡️  **array[5] == target → Found at index 5**\n",
    "\n",
    "```\n",
    "Indices:  0  1  2   3   4   5   6   7   8   9   10\n",
    "Array:   [2, 5, 8, 12, 16, 23, 38, 45, 56, 72, 91]\n",
    "                            ^\n",
    "                         mid = 5\n",
    "```\n",
    "\n",
    "---\n",
    "\n",
    "# Another Example: Searching for **target = 8**\n",
    "\n",
    "---\n",
    "\n",
    "### Step 1\n",
    "\n",
    "- `left = 0`, `right = 10`\n",
    "- `mid = (0 + 10) // 2 = 5`\n",
    "- Compare `array[5] = 23` with target `8`\n",
    "\n",
    "➡️  **8 < 23**, so move `right = mid - 1 = 4`\n",
    "\n",
    "```\n",
    "Indices:  0  1  2   3   4   5   6   7   8   9  10\n",
    "Array:   [2, 5, 8, 12, 16, 23, 38, 45, 56, 72, 91]\n",
    "                            ^\n",
    "                         mid = 5\n",
    "```\n",
    "\n",
    "---\n",
    "\n",
    "### Step 2\n",
    "\n",
    "- `left = 0`, `right = 4`\n",
    "- `mid = (0 + 4) // 2 = 2`\n",
    "- Compare `array[2] = 8` with target `8`\n",
    "\n",
    "➡️  **array[2] == target → Found at index 2**\n",
    "\n",
    "```\n",
    "Indices:  0  1  2   3   4\n",
    "Array:   [2, 5, 8, 12, 16]\n",
    "                ^\n",
    "              mid = 2\n",
    "```\n"
   ]
  },
  {
   "cell_type": "code",
   "execution_count": 1,
   "id": "efab405a-e622-4d71-be3e-1753998edd9f",
   "metadata": {},
   "outputs": [],
   "source": [
    "def binary_search_recursive(arr, target):\n",
    "    pass"
   ]
  },
  {
   "cell_type": "code",
   "execution_count": 2,
   "id": "d580e168-317a-4bf9-9d82-53e54c6b050c",
   "metadata": {},
   "outputs": [],
   "source": [
    "def binary_search_iterative(arr, target):\n",
    "    pass"
   ]
  },
  {
   "cell_type": "markdown",
   "id": "2890b7c2-a2ac-44aa-a197-66e66769c91a",
   "metadata": {},
   "source": [
    "# Depth First Search\n",
    "\n",
    "Depth first search explores as far as possible down each branch before backtracking. When it is implemented recursively on a binary tree, the order in which the nodes are processed depends on the traversal type. Inorder traversal is the most common type for binary search trees.\n",
    "\n",
    "* Inorder: Left -> Root -> Right\n",
    "* Preorder: Root -> Left -> Right\n",
    "* Postorder: Left -> Right -> Root"
   ]
  },
  {
   "cell_type": "code",
   "execution_count": 3,
   "id": "d2f30d17-eec6-4d23-ba89-8532dc826063",
   "metadata": {},
   "outputs": [],
   "source": [
    "class TreeNode:\n",
    "    def __init__(self, value):\n",
    "        self.val = value\n",
    "        self.left = None\n",
    "        self.right = None"
   ]
  },
  {
   "cell_type": "code",
   "execution_count": 4,
   "id": "1158073b-2e27-47cb-b101-35cb8a5c2423",
   "metadata": {},
   "outputs": [],
   "source": [
    "def dfs_inorder(node):\n",
    "    \"\"\"Left -> Root -> Right\"\"\"\n",
    "    \n",
    "    if not node:\n",
    "        return\n",
    "    dfs_inorder(node.left)\n",
    "    # \"Visit\" the node\n",
    "    print(node.val)\n",
    "    dfs_inorder(node.right)"
   ]
  },
  {
   "cell_type": "markdown",
   "id": "c67c876e-0864-4083-8084-b34fdcd53cb3",
   "metadata": {},
   "source": [
    "Build this binary tree\n",
    "\n",
    "```\n",
    "       1\n",
    "      / \\\n",
    "     2   3\n",
    "    / \\   \\\n",
    "   4   5   6\n",
    "```"
   ]
  },
  {
   "cell_type": "code",
   "execution_count": 5,
   "id": "939b3f60-8140-491d-aa50-946d298f0a0f",
   "metadata": {},
   "outputs": [],
   "source": [
    "root1 = TreeNode(1)\n",
    "root1.left = TreeNode(2)\n",
    "root1.right = TreeNode(3)\n",
    "root1.left.left = TreeNode(4)\n",
    "root1.left.right = TreeNode(5)\n",
    "root1.right.right = TreeNode(6)"
   ]
  },
  {
   "cell_type": "code",
   "execution_count": 6,
   "id": "446b5151-f929-4d27-ae52-1ac82a4c8dc7",
   "metadata": {},
   "outputs": [
    {
     "name": "stdout",
     "output_type": "stream",
     "text": [
      "4\n",
      "2\n",
      "5\n",
      "1\n",
      "3\n",
      "6\n"
     ]
    }
   ],
   "source": [
    "dfs_inorder(root1)"
   ]
  },
  {
   "cell_type": "code",
   "execution_count": 7,
   "id": "820766b2-bd02-4c8e-9929-f6cd189a164b",
   "metadata": {},
   "outputs": [],
   "source": [
    "def dfs_preorder(node):\n",
    "    \"\"\"Root -> Left -> Right\"\"\"\n",
    "    \n",
    "    if not node:\n",
    "        return\n",
    "    # \"Visit\" the node\n",
    "    print(node.val)\n",
    "    dfs_preorder(node.left)\n",
    "    dfs_preorder(node.right)"
   ]
  },
  {
   "cell_type": "code",
   "execution_count": 8,
   "id": "5db1c15b-ab93-4e35-8a9a-e4f3f8560c44",
   "metadata": {},
   "outputs": [
    {
     "name": "stdout",
     "output_type": "stream",
     "text": [
      "1\n",
      "2\n",
      "4\n",
      "5\n",
      "3\n",
      "6\n"
     ]
    }
   ],
   "source": [
    "dfs_preorder(root1)"
   ]
  },
  {
   "cell_type": "code",
   "execution_count": 9,
   "id": "745163fb-ad55-491f-ae8d-0cadad6ffb8f",
   "metadata": {},
   "outputs": [],
   "source": [
    "def dfs_postorder(node):\n",
    "    \"\"\"Left -> Right -> Root\"\"\"\n",
    "    if not node:\n",
    "        return\n",
    "    dfs_postorder(node.left)\n",
    "    dfs_postorder(node.right)\n",
    "    # \"Visit\" the node\n",
    "    print(node.val)"
   ]
  },
  {
   "cell_type": "code",
   "execution_count": 10,
   "id": "f37110f8-4dcf-4694-9163-01fbb91901f2",
   "metadata": {},
   "outputs": [
    {
     "name": "stdout",
     "output_type": "stream",
     "text": [
      "4\n",
      "5\n",
      "2\n",
      "6\n",
      "3\n",
      "1\n"
     ]
    }
   ],
   "source": [
    "dfs_postorder(root1)"
   ]
  },
  {
   "cell_type": "code",
   "execution_count": 11,
   "id": "1c46caa3-dc56-4fcc-ab80-71b60d2016cd",
   "metadata": {},
   "outputs": [],
   "source": [
    "# Find the leaves of a tree with preorder DFS\n",
    "def find_leaves_pre(node):\n",
    "    res = []\n",
    "    def dfs(node):\n",
    "        if not node:\n",
    "            return\n",
    "        if not node.left and not node.right:\n",
    "            res.append(node.val)\n",
    "\n",
    "        dfs(node.left)\n",
    "        dfs(node.right)\n",
    "\n",
    "    dfs(node)\n",
    "    \n",
    "    return res"
   ]
  },
  {
   "cell_type": "code",
   "execution_count": 12,
   "id": "0fd2bb76-dae9-4543-a452-cc08ebdd6369",
   "metadata": {},
   "outputs": [
    {
     "data": {
      "text/plain": [
       "[4, 5, 6]"
      ]
     },
     "execution_count": 12,
     "metadata": {},
     "output_type": "execute_result"
    }
   ],
   "source": [
    "find_leaves_pre(root1)"
   ]
  },
  {
   "cell_type": "markdown",
   "id": "2832be70-5a12-4b52-aab3-7d1fd5cf6e9c",
   "metadata": {},
   "source": [
    "Trees on different levels:\n",
    "\n",
    "```\n",
    "        1\n",
    "       / \\\n",
    "      2   3\n",
    "     /   / \\\n",
    "    4   5   6\n",
    "         \\\n",
    "          7\n",
    "```"
   ]
  },
  {
   "cell_type": "code",
   "execution_count": 13,
   "id": "b2acceeb-90cc-43e9-b739-2019b9bedaa4",
   "metadata": {},
   "outputs": [],
   "source": [
    "root2 = TreeNode(1)\n",
    "root2.left = TreeNode(2)\n",
    "root2.right = TreeNode(3)\n",
    "\n",
    "root2.left.left = TreeNode(4)\n",
    "root2.right.left = TreeNode(5)\n",
    "root2.right.right = TreeNode(6)\n",
    "\n",
    "root2.right.left.right = TreeNode(7)"
   ]
  },
  {
   "cell_type": "code",
   "execution_count": 14,
   "id": "7564e7cb-5e1b-437d-9528-60bb73a1e021",
   "metadata": {},
   "outputs": [
    {
     "data": {
      "text/plain": [
       "[4, 7, 6]"
      ]
     },
     "execution_count": 14,
     "metadata": {},
     "output_type": "execute_result"
    }
   ],
   "source": [
    "find_leaves_pre(root2)"
   ]
  },
  {
   "cell_type": "code",
   "execution_count": 15,
   "id": "15ae95ba-9928-4f88-a213-3694191e17fa",
   "metadata": {},
   "outputs": [],
   "source": [
    "def find_leaves_post(node):\n",
    "    res = []\n",
    "    def dfs(node):\n",
    "        if not node:\n",
    "            return\n",
    "        dfs(node.right)\n",
    "        if not node.left and not node.right:\n",
    "            res.append(node.val)\n",
    "        dfs(node.left)\n",
    "        \n",
    "    \n",
    "    dfs(node)\n",
    "    return res"
   ]
  },
  {
   "cell_type": "code",
   "execution_count": 16,
   "id": "dc3063d7-390b-40d4-83d5-959377a6aff0",
   "metadata": {},
   "outputs": [
    {
     "data": {
      "text/plain": [
       "[6, 7, 4]"
      ]
     },
     "execution_count": 16,
     "metadata": {},
     "output_type": "execute_result"
    }
   ],
   "source": [
    "find_leaves_post(root2)"
   ]
  },
  {
   "cell_type": "markdown",
   "id": "3f50aa12-c394-494f-984b-11da2c9f7d7b",
   "metadata": {},
   "source": [
    "# Breadth First Search\n",
    "\n",
    "* Also known as level order traversal\n",
    "* Traverse tree level by level from left to right, append child elements to a queue to be processed"
   ]
  },
  {
   "cell_type": "code",
   "execution_count": 17,
   "id": "b78c1744-b217-4027-8981-2b33df4e69eb",
   "metadata": {},
   "outputs": [],
   "source": [
    "from collections import deque\n",
    "\n",
    "def bfs(node):\n",
    "    if not node:\n",
    "        return\n",
    "\n",
    "    q = deque([node])\n",
    "    while q:\n",
    "        for _ in range(len(q)):\n",
    "            curr = q.popleft()\n",
    "            # \"Visit\" the node\n",
    "            print(curr.val)\n",
    "            if curr.left:\n",
    "                q.append(curr.left)\n",
    "            if curr.right:\n",
    "                q.append(curr.right)\n",
    "    "
   ]
  },
  {
   "cell_type": "code",
   "execution_count": 18,
   "id": "ab029697-20bf-4f17-9a61-ea4c01582a86",
   "metadata": {},
   "outputs": [
    {
     "name": "stdout",
     "output_type": "stream",
     "text": [
      "1\n",
      "2\n",
      "3\n",
      "4\n",
      "5\n",
      "6\n",
      "7\n"
     ]
    }
   ],
   "source": [
    "bfs(root2)"
   ]
  },
  {
   "cell_type": "code",
   "execution_count": 19,
   "id": "4346988e-d02f-4a1c-a630-37f3d92e301b",
   "metadata": {},
   "outputs": [],
   "source": [
    "def iterative_dfs(node):\n",
    "    if not node:\n",
    "        return\n",
    "\n",
    "    stack = [node]\n",
    "    while stack:\n",
    "        curr = stack.pop()\n",
    "        print(curr.val)\n",
    "        if curr.right:\n",
    "            stack.append(curr.right)\n",
    "        if curr.left:\n",
    "            stack.append(curr.left)\n"
   ]
  },
  {
   "cell_type": "code",
   "execution_count": 20,
   "id": "99b93b03-b67e-49ef-b92c-d5aca1ba694a",
   "metadata": {},
   "outputs": [
    {
     "name": "stdout",
     "output_type": "stream",
     "text": [
      "1\n",
      "2\n",
      "4\n",
      "3\n",
      "5\n",
      "7\n",
      "6\n"
     ]
    }
   ],
   "source": [
    "iterative_dfs(root2)"
   ]
  },
  {
   "cell_type": "markdown",
   "id": "b74823cf-f8c3-41ca-9a67-6a963de82278",
   "metadata": {},
   "source": [
    "# Recursion\n",
    "\n"
   ]
  },
  {
   "cell_type": "code",
   "execution_count": 21,
   "id": "b50085ec-96da-4a7c-b36b-ac7051f37c73",
   "metadata": {},
   "outputs": [],
   "source": [
    "def recursive_cumulative_sum(n, depth=0):\n",
    "    indent = \" \" * depth\n",
    "    print(f\"{indent}Entering: n = {n}\")\n",
    "    \n",
    "    if n == 0:\n",
    "        print(f\"{indent}Base case reached: returning 0\")\n",
    "        return 0\n",
    "\n",
    "    result = n + recursive_cumulative_sum(n-1, depth+1)\n",
    "    print(f\"{indent}Returning: {n} + sum(n-1) = {result}\")\n",
    "    return result"
   ]
  },
  {
   "cell_type": "code",
   "execution_count": 22,
   "id": "96cfa0e8-14ea-4ddb-93e2-29ab91a1629a",
   "metadata": {},
   "outputs": [
    {
     "name": "stdout",
     "output_type": "stream",
     "text": [
      "Entering: n = 5\n",
      " Entering: n = 4\n",
      "  Entering: n = 3\n",
      "   Entering: n = 2\n",
      "    Entering: n = 1\n",
      "     Entering: n = 0\n",
      "     Base case reached: returning 0\n",
      "    Returning: 1 + sum(n-1) = 1\n",
      "   Returning: 2 + sum(n-1) = 3\n",
      "  Returning: 3 + sum(n-1) = 6\n",
      " Returning: 4 + sum(n-1) = 10\n",
      "Returning: 5 + sum(n-1) = 15\n"
     ]
    },
    {
     "data": {
      "text/plain": [
       "15"
      ]
     },
     "execution_count": 22,
     "metadata": {},
     "output_type": "execute_result"
    }
   ],
   "source": [
    "recursive_cumulative_sum(5)"
   ]
  },
  {
   "cell_type": "markdown",
   "id": "2b9b92a3-ea5e-4dcd-90dd-51c594c513ed",
   "metadata": {},
   "source": [
    "# Heap"
   ]
  },
  {
   "cell_type": "code",
   "execution_count": 62,
   "id": "2e01c833-d50c-412b-8381-87af0bcc31dd",
   "metadata": {},
   "outputs": [],
   "source": [
    "import heapq\n",
    "\n",
    "a = [55, 44, 33, 22, 11]\n",
    "neg_a = [-n for n in a]\n",
    "heapq.heapify(neg_a)"
   ]
  },
  {
   "cell_type": "code",
   "execution_count": 63,
   "id": "49084ffd-f601-4868-9e6f-85dae70ffa3a",
   "metadata": {},
   "outputs": [
    {
     "data": {
      "text/plain": [
       "55"
      ]
     },
     "execution_count": 63,
     "metadata": {},
     "output_type": "execute_result"
    }
   ],
   "source": [
    "neg_a[0] * -1"
   ]
  },
  {
   "cell_type": "code",
   "execution_count": 64,
   "id": "3c07d024-731a-4b56-b276-98d0e36279b9",
   "metadata": {},
   "outputs": [
    {
     "data": {
      "text/plain": [
       "-55"
      ]
     },
     "execution_count": 64,
     "metadata": {},
     "output_type": "execute_result"
    }
   ],
   "source": [
    "heapq.heappop(neg_a)"
   ]
  },
  {
   "cell_type": "code",
   "execution_count": 65,
   "id": "aaddd1c8-97ef-456d-a895-d854d285d243",
   "metadata": {},
   "outputs": [
    {
     "data": {
      "text/plain": [
       "-44"
      ]
     },
     "execution_count": 65,
     "metadata": {},
     "output_type": "execute_result"
    }
   ],
   "source": [
    "heapq.heappop(neg_a)"
   ]
  },
  {
   "cell_type": "code",
   "execution_count": null,
   "id": "49d81aa6-51c7-494a-9567-998db776d27f",
   "metadata": {},
   "outputs": [],
   "source": []
  }
 ],
 "metadata": {
  "kernelspec": {
   "display_name": "Python 3 (ipykernel)",
   "language": "python",
   "name": "python3"
  },
  "language_info": {
   "codemirror_mode": {
    "name": "ipython",
    "version": 3
   },
   "file_extension": ".py",
   "mimetype": "text/x-python",
   "name": "python",
   "nbconvert_exporter": "python",
   "pygments_lexer": "ipython3",
   "version": "3.13.3"
  }
 },
 "nbformat": 4,
 "nbformat_minor": 5
}
