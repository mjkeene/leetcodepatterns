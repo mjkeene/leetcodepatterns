{
 "cells": [
  {
   "cell_type": "markdown",
   "id": "08e4969c-7eaf-4546-afaf-9adc08c55c8c",
   "metadata": {},
   "source": [
    "<h3>Revisited Problems</h3>\n",
    "\n",
    "---\n",
    "\n",
    "* [Dynamic Programming] Longest increasing subsequence\n",
    "* [Dynamic Programming] Climbing stairs\n",
    "* [String] Reverse Integer\n",
    "* [SQL] Last Person to Fit on Bus\n",
    "* [SQL] Weather Differences\n",
    "\n",
    "---"
   ]
  },
  {
   "cell_type": "markdown",
   "id": "c57ee767-d52c-47ca-be97-6e13daffd3e5",
   "metadata": {},
   "source": [
    "<h3>Longest Increasing Subsequence</h3>\n",
    "\n",
    "https://leetcode.com/problems/longest-increasing-subsequence/description/\n",
    "\n",
    "Given an integer array nums, return the length of the longest strictly increasing subsequence.\n",
    "\n",
    "Example 1:\n",
    "\n",
    "Input: nums = [10,9,2,5,3,7,101,18]\n",
    "Output: 4\n",
    "Explanation: The longest increasing subsequence is [2,3,7,101], therefore the length is 4.\n",
    "\n",
    "Example 2:\n",
    "\n",
    "Input: nums = [0,1,0,3,2,3]\n",
    "Output: 4\n",
    "\n",
    "Example 3:\n",
    "\n",
    "Input: nums = [7,7,7,7,7,7,7]\n",
    "Output: 1\n"
   ]
  },
  {
   "cell_type": "code",
   "execution_count": 1,
   "id": "0d847488-32d8-4a2e-a44f-40044452e45b",
   "metadata": {},
   "outputs": [],
   "source": [
    "def lis(arr):\n",
    "    pass\n",
    "    "
   ]
  },
  {
   "cell_type": "code",
   "execution_count": 2,
   "id": "7ba0e03d-cba0-4c50-b3a9-4bec270c532f",
   "metadata": {},
   "outputs": [
    {
     "name": "stdout",
     "output_type": "stream",
     "text": [
      "Output: None Expected output: 4\n"
     ]
    }
   ],
   "source": [
    "print(\"Output:\", lis([10,9,2,5,3,7,101,18]), \"Expected output: 4\")"
   ]
  },
  {
   "cell_type": "markdown",
   "id": "a347dbed-f8e2-4951-a3ae-9ff27800f2b9",
   "metadata": {},
   "source": [
    "<h3>Climbing Stairs</h3>\n",
    "\n",
    "https://leetcode.com/problems/climbing-stairs/description/\n",
    "\n",
    "You are climbing a staircase. It takes n steps to reach the top.\n",
    "\n",
    "Each time you can either climb 1 or 2 steps. In how many distinct ways can you climb to the top?\n",
    "\n",
    "Example 1:\n",
    "\n",
    "Input: n = 2\n",
    "Output: 2\n",
    "Explanation: There are two ways to climb to the top.\n",
    "1. 1 step + 1 step\n",
    "2. 2 steps\n",
    "\n",
    "Example 2:\n",
    "\n",
    "Input: n = 3\n",
    "Output: 3\n",
    "Explanation: There are three ways to climb to the top.\n",
    "1. 1 step + 1 step + 1 step\n",
    "2. 1 step + 2 steps\n",
    "3. 2 steps + 1 step\n",
    "\n",
    "* Note that this ends up just being the fibonacci sequence: A[i] = A[i-2] + A[i-1]"
   ]
  },
  {
   "cell_type": "code",
   "execution_count": 3,
   "id": "ec7c2cdd-9c5d-43b1-bd14-135f7d5ab74e",
   "metadata": {},
   "outputs": [],
   "source": [
    "def climb_stairs(n: int) -> int:\n",
    "    \"\"\"Return distinct ways to climb to n either taking 1 step or two steps.\"\"\"\n",
    "    if n <= 2:\n",
    "        return n\n",
    "        \n",
    "    res = [0] * (n + 1)\n",
    "    res[1], res[2] = 1, 2\n",
    "\n",
    "    for i in range(3, n + 1):\n",
    "        res[i] = res[i-2] + res[i-1]\n",
    "\n",
    "    return res[n]"
   ]
  },
  {
   "cell_type": "code",
   "execution_count": 4,
   "id": "ede8fa94-bf30-413c-ae6b-9d67c7885754",
   "metadata": {},
   "outputs": [
    {
     "name": "stdout",
     "output_type": "stream",
     "text": [
      "Output: 8 Expected output: 8\n",
      "Output: 1 Expected output: 1\n"
     ]
    }
   ],
   "source": [
    "print(\"Output:\", climb_stairs(5), \"Expected output: 8\")\n",
    "print(\"Output:\", climb_stairs(1), \"Expected output: 1\")"
   ]
  },
  {
   "cell_type": "code",
   "execution_count": 5,
   "id": "55c1924a-7d24-4d1b-a7e1-959f78523878",
   "metadata": {},
   "outputs": [],
   "source": [
    "def climb_stairs_other(n: int) -> int:\n",
    "    # slight difference—assume that position 0 has 1 way to reach it (e.g., do nothing).\n",
    "    steps = [1, 1]\n",
    "    for i in range(2, n+1):\n",
    "        steps.append(steps[i-1] + steps[i-2])\n",
    "\n",
    "    return steps[n]"
   ]
  },
  {
   "cell_type": "code",
   "execution_count": 6,
   "id": "51a88a93-d4b1-47f0-83ba-7fe199ce2283",
   "metadata": {},
   "outputs": [
    {
     "name": "stdout",
     "output_type": "stream",
     "text": [
      "Output: 8 Expected output: 8\n",
      "Output: 1 Expected output: 1\n"
     ]
    }
   ],
   "source": [
    "print(\"Output:\", climb_stairs_other(5), \"Expected output: 8\")\n",
    "print(\"Output:\", climb_stairs_other(1), \"Expected output: 1\")"
   ]
  },
  {
   "cell_type": "code",
   "execution_count": 7,
   "id": "a9954712-008d-48b0-a1f9-56a06f5f36a3",
   "metadata": {},
   "outputs": [],
   "source": [
    "def climb_stairs_simplified(n: int) -> int:\n",
    "    # Use O(1) space tabulation with just 2 vars\n",
    "    if n <= 2:\n",
    "        return n\n",
    "\n",
    "    a, b = 1, 2\n",
    "    for i in range(3, n+1):\n",
    "        a, b = b, a + b\n",
    "        \n",
    "    return b"
   ]
  },
  {
   "cell_type": "code",
   "execution_count": 8,
   "id": "a532bb12-cef7-4991-8baa-170b5f306065",
   "metadata": {},
   "outputs": [
    {
     "name": "stdout",
     "output_type": "stream",
     "text": [
      "Output: 10946 Expected output: 10946\n",
      "Output: 8 Expected output: 8\n"
     ]
    }
   ],
   "source": [
    "print(\"Output:\", climb_stairs_simplified(20), \"Expected output: 10946\")\n",
    "print(\"Output:\", climb_stairs_simplified(5), \"Expected output: 8\")"
   ]
  },
  {
   "cell_type": "markdown",
   "id": "053f455d-b29f-46d9-bcd9-db263583d525",
   "metadata": {},
   "source": [
    "<h3>Reverse Integer</h3>\n",
    "\n",
    "https://leetcode.com/problems/reverse-integer/description/\n",
    "\n",
    "Example 1:\n",
    "\n",
    "Input: x = 123\n",
    "Output: 321\n",
    "\n",
    "Example 2:\n",
    "\n",
    "Input: x = -123\n",
    "Output: -321\n",
    "\n",
    "Example 3:\n",
    "\n",
    "Input: x = 120\n",
    "Output: 21\n"
   ]
  },
  {
   "cell_type": "code",
   "execution_count": 9,
   "id": "dc59592f-0a83-429c-9fde-e539338605ae",
   "metadata": {},
   "outputs": [],
   "source": [
    "def reverse_integer(n: int) -> int:\n",
    "    sign = -1 if n < 0 else 1\n",
    "\n",
    "    # Get rid of negative sign if it exists\n",
    "    n *= sign\n",
    "\n",
    "    rev = int(str(n)[::-1])\n",
    "\n",
    "    # Put back negative sign if necessary\n",
    "    rev *= sign\n",
    "    \n",
    "    if rev > 2**31 - 1 or rev < -2**31:\n",
    "        return 0\n",
    "\n",
    "    return rev"
   ]
  },
  {
   "cell_type": "code",
   "execution_count": 10,
   "id": "624aae71-7f09-4006-8f79-c7313cd2448b",
   "metadata": {},
   "outputs": [
    {
     "name": "stdout",
     "output_type": "stream",
     "text": [
      "Output: 321 Expected output: 321\n",
      "Output: -123 Expected output: -123\n",
      "Output: 21 Expected output: 21\n",
      "Output: 0 Expected output: 0\n"
     ]
    }
   ],
   "source": [
    "print(\"Output:\", reverse_integer(123), \"Expected output: 321\")\n",
    "print(\"Output:\", reverse_integer(-321), \"Expected output: -123\")\n",
    "print(\"Output:\", reverse_integer(120), \"Expected output: 21\")\n",
    "print(\"Output:\", reverse_integer(2_147_483_648), \"Expected output: 0\")"
   ]
  },
  {
   "cell_type": "markdown",
   "id": "5b729530-11b8-4f77-bbfd-9a8c3710ecda",
   "metadata": {},
   "source": [
    "<h3>SQL—Last Person to Fit on Bus</h3>\n",
    "\n",
    "https://leetcode.com/problems/last-person-to-fit-in-the-bus/description/\n",
    "```\n",
    "Table: Queue\n",
    "\n",
    "+-------------+---------+\n",
    "| Column Name | Type    |\n",
    "+-------------+---------+\n",
    "| person_id   | int     |\n",
    "| person_name | varchar |\n",
    "| weight      | int     |\n",
    "| turn        | int     |\n",
    "+-------------+---------+\n",
    "person_id column contains unique values.\n",
    "This table has the information about all people waiting for a bus.\n",
    "The person_id and turn columns will contain all numbers from 1 to n, where n is the number of rows in the table.\n",
    "turn determines the order of which the people will board the bus, where turn=1 denotes the first person to board and turn=n denotes the last person to board.\n",
    "weight is the weight of the person in kilograms.\n",
    "\n",
    "There is a queue of people waiting to board a bus. However, the bus has a weight limit of 1000 kilograms, so there may be some people who cannot board.\n",
    "\n",
    "Write a solution to find the person_name of the last person that can fit on the bus without exceeding the weight limit. The test cases are generated such that the first person does not exceed the weight limit.\n",
    "\n",
    "Note that only one person can board the bus at any given turn.\n",
    "\n",
    "The result format is in the following example.\n",
    "\n",
    "Example 1:\n",
    "\n",
    "Input: \n",
    "Queue table:\n",
    "+-----------+-------------+--------+------+\n",
    "| person_id | person_name | weight | turn |\n",
    "+-----------+-------------+--------+------+\n",
    "| 5         | Alice       | 250    | 1    |\n",
    "| 4         | Bob         | 175    | 5    |\n",
    "| 3         | Alex        | 350    | 2    |\n",
    "| 6         | John Cena   | 400    | 3    |\n",
    "| 1         | Winston     | 500    | 6    |\n",
    "| 2         | Marie       | 200    | 4    |\n",
    "+-----------+-------------+--------+------+\n",
    "Output: \n",
    "+-------------+\n",
    "| person_name |\n",
    "+-------------+\n",
    "| John Cena   |\n",
    "+-------------+\n",
    "Explanation: The folowing table is ordered by the turn for simplicity.\n",
    "+------+----+-----------+--------+--------------+\n",
    "| Turn | ID | Name      | Weight | Total Weight |\n",
    "+------+----+-----------+--------+--------------+\n",
    "| 1    | 5  | Alice     | 250    | 250          |\n",
    "| 2    | 3  | Alex      | 350    | 600          |\n",
    "| 3    | 6  | John Cena | 400    | 1000         | (last person to board)\n",
    "| 4    | 2  | Marie     | 200    | 1200         | (cannot board)\n",
    "| 5    | 4  | Bob       | 175    | ___          |\n",
    "| 6    | 1  | Winston   | 500    | ___          |\n",
    "+------+----+-----------+--------+--------------+\n",
    "```\n"
   ]
  },
  {
   "cell_type": "markdown",
   "id": "5b6a255f-1d02-4c8a-812b-8764da4fe5e5",
   "metadata": {},
   "source": [
    "```sql\n",
    "SELECT person_name\n",
    "FROM (\n",
    "    SELECT \n",
    "    person_name\n",
    "    ,SUM(Weight) OVER(ORDER BY Turn) as cumulative_weight\n",
    "    FROM Queue\n",
    "    ORDER BY cumulative_weight DESC\n",
    "    )\n",
    "WHERE cumulative_weight <= 1000\n",
    "LIMIT 1;\n",
    "```"
   ]
  },
  {
   "cell_type": "markdown",
   "id": "d358a213-cc30-462b-8db8-2027f6f0bf26",
   "metadata": {},
   "source": [
    "<h3>SQL—Rising Temperatures</h3>\n",
    "\n",
    "https://leetcode.com/problems/rising-temperature/description/\n",
    "\n",
    "```\n",
    "+---------------+---------+\n",
    "| Column Name   | Type    |\n",
    "+---------------+---------+\n",
    "| id            | int     |\n",
    "| recordDate    | date    |\n",
    "| temperature   | int     |\n",
    "+---------------+---------+\n",
    "id is the column with unique values for this table.\n",
    "There are no different rows with the same recordDate.\n",
    "This table contains information about the temperature on a certain day.\n",
    "\n",
    " \n",
    "\n",
    "Write a solution to find all dates' id with higher temperatures compared to its previous dates (yesterday).\n",
    "\n",
    "Return the result table in any order.\n",
    "\n",
    "The result format is in the following example.\n",
    "\n",
    " \n",
    "\n",
    "Example 1:\n",
    "\n",
    "Input: \n",
    "Weather table:\n",
    "+----+------------+-------------+\n",
    "| id | recordDate | temperature |\n",
    "+----+------------+-------------+\n",
    "| 1  | 2015-01-01 | 10          |\n",
    "| 2  | 2015-01-02 | 25          |\n",
    "| 3  | 2015-01-03 | 20          |\n",
    "| 4  | 2015-01-04 | 30          |\n",
    "+----+------------+-------------+\n",
    "Output: \n",
    "+----+\n",
    "| id |\n",
    "+----+\n",
    "| 2  |\n",
    "| 4  |\n",
    "+----+\n",
    "Explanation: \n",
    "In 2015-01-02, the temperature was higher than the previous day (10 -> 25).\n",
    "In 2015-01-04, the temperature was higher than the previous day (20 -> 30).\n",
    "```"
   ]
  },
  {
   "cell_type": "markdown",
   "id": "7e33f3a7-1786-415e-a805-e70d4dd0236a",
   "metadata": {},
   "source": [
    "```sql\n",
    "SELECT w1.id\n",
    "FROM Weather w1\n",
    "JOIN Weather w2 ON w1.recordDate = DATE_ADD(w2.recordDate, INTERVAL 1 DAY)\n",
    "WHERE w2.temperature < w1.temperature;\n",
    "\n",
    "-- w2 date represents yeterday's temp (not \"previous record date\", but actually guaranteed to be yesterday).\n",
    "-- If yesterday's value is not present, w2 records will be NULL\n",
    "\n",
    "```"
   ]
  },
  {
   "cell_type": "code",
   "execution_count": null,
   "id": "d6a9b7e2-2e4d-4513-8aef-042926035b98",
   "metadata": {},
   "outputs": [],
   "source": []
  }
 ],
 "metadata": {
  "kernelspec": {
   "display_name": "Python 3",
   "language": "python",
   "name": "python3"
  },
  "language_info": {
   "codemirror_mode": {
    "name": "ipython",
    "version": 3
   },
   "file_extension": ".py",
   "mimetype": "text/x-python",
   "name": "python",
   "nbconvert_exporter": "python",
   "pygments_lexer": "ipython3",
   "version": "3.8.8"
  }
 },
 "nbformat": 4,
 "nbformat_minor": 5
}
